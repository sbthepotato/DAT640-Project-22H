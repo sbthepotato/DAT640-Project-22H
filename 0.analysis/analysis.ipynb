{
 "cells": [
  {
   "cell_type": "markdown",
   "metadata": {},
   "source": [
    "# Analysis of Datasets\n",
    "\n",
    "In this file we look look at the training datasets to confirm what was written in the related works sections and to find any obvious patterns in the questions to more directly hardcode in what type of answer to give"
   ]
  },
  {
   "cell_type": "code",
   "execution_count": 238,
   "metadata": {},
   "outputs": [],
   "source": [
    "import json\n",
    "import pandas\n",
    "import matplotlib.pyplot as plt\n",
    "import numpy as np\n",
    "\n",
    "from collections import Counter"
   ]
  },
  {
   "cell_type": "markdown",
   "metadata": {},
   "source": [
    "## Load Data\n",
    "\n",
    "Loads the data and saves it as a list of dictionaries"
   ]
  },
  {
   "cell_type": "code",
   "execution_count": 239,
   "metadata": {},
   "outputs": [],
   "source": [
    "def loadData(filelocation):\n",
    "    \"\"\"Loads a json training dataset and returns it as a list of dictionaries.\n",
    "    The keys are:\n",
    "\n",
    "    'ID', 'question', 'category', 'type'\n",
    "    \n",
    "    Note: 'Boolean' category have no type\n",
    "    \"\"\"\n",
    "    with open(filelocation, 'r', encoding='utf-8') as file:\n",
    "        return json.load(file)"
   ]
  },
  {
   "cell_type": "code",
   "execution_count": 240,
   "metadata": {},
   "outputs": [],
   "source": [
    "dbpedia = loadData('../datasets/DBpedia/smarttask_dbpedia_train.json')\n",
    "\n",
    "wikidata = loadData('../datasets/Wikidata/lcquad2_anstype_wikidata_train.json')"
   ]
  },
  {
   "cell_type": "markdown",
   "metadata": {},
   "source": [
    "## Category Analysis Functions\n",
    "\n",
    "These functions are used for category analysis and sorting the results from it"
   ]
  },
  {
   "cell_type": "code",
   "execution_count": 241,
   "metadata": {},
   "outputs": [],
   "source": [
    "def mostFreqQwordCategory(data, category):\n",
    "    \"\"\"Takes a dataset and a category and returns the first word of every question\n",
    "    \"\"\"\n",
    "    firstWordList = []\n",
    "    for i in data:\n",
    "        if i['category'] == category:\n",
    "            firstWordList.append(i['question'].lower().split()[0])\n",
    "    return firstWordList\n",
    "\n",
    "def CountFrequency(list):\n",
    "    \"\"\"Takes a list and returns it as a sorted dictionary where the key is the item and the value is the frequency\n",
    "    \"\"\"\n",
    "    freq = {}\n",
    "    for item in sortListFreq(list):\n",
    "        if (item in freq):\n",
    "            freq[item] += 1\n",
    "        else:\n",
    "            freq[item] = 1\n",
    "    return freq\n",
    "\n",
    "def sortListFreq(list):\n",
    "    \"\"\"Sorts a list on frequency\n",
    "    \"\"\"\n",
    "    counts = Counter(list)\n",
    "    return sorted(list, key=counts.get, reverse=True)\n",
    "\n",
    "def topXOfList(list, x):\n",
    "    \"\"\"Returns the X most common elements in a list\"\"\"\n",
    "    counts = Counter(list)\n",
    "    return counts.most_common(x)\n",
    "\n",
    "def convertTupToDict(tuple):\n",
    "    \"\"\"Converts a list of tuples into a dictionary\"\"\"\n",
    "    dict = {}\n",
    "    for i, j in tuple:\n",
    "        dict.setdefault(i, j)\n",
    "    return dict\n",
    "def mostFreqQwordCategory(data, category):\n",
    "    \"\"\"Takes a dataset and a category and returns the first word of every question\n",
    "    \"\"\"\n",
    "    firstWordList = []\n",
    "    for i in data:\n",
    "        if i['category'] == category:\n",
    "            firstWordList.append(i['question'].lower().split()[0])\n",
    "    return firstWordList\n",
    "\n",
    "def CountFrequency(list):\n",
    "    \"\"\"Takes a list and returns it as a sorted dictionary where the key is the item and the value is the frequency\n",
    "    \"\"\"\n",
    "    freq = {}\n",
    "    for item in sortListFreq(list):\n",
    "        if (item in freq):\n",
    "            freq[item] += 1\n",
    "        else:\n",
    "            freq[item] = 1\n",
    "    return freq\n",
    "\n",
    "def sortListFreq(list):\n",
    "    \"\"\"Sorts a list on frequency\n",
    "    \"\"\"\n",
    "    counts = Counter(list)\n",
    "    return sorted(list, key=counts.get, reverse=True)\n",
    "\n",
    "def topXOfList(list, x):\n",
    "    \"\"\"Returns the X most common elements in a list\"\"\"\n",
    "    counts = Counter(list)\n",
    "    return counts.most_common(x)\n",
    "\n",
    "def convertTupToDict(tuple):\n",
    "    \"\"\"Converts a list of tuples into a dictionary\"\"\"\n",
    "    dict = {}\n",
    "    for i, j in tuple:\n",
    "        dict.setdefault(i, j)\n",
    "    return dict"
   ]
  },
  {
   "cell_type": "markdown",
   "metadata": {},
   "source": [
    "## Boolean Category Analysis\n",
    "\n",
    "here we take the first word from all questions which expect a boolean as an answer, then we take the top 8 most frequent words from each dataset and plot them together. Here the dbpedia data is red and the wikidata data is blue."
   ]
  },
  {
   "cell_type": "code",
   "execution_count": 242,
   "metadata": {},
   "outputs": [
    {
     "data": {
      "image/png": "[encoded data removed]",
      "text/plain": [
       "<Figure size 432x288 with 1 Axes>"
      ]
     },
     "metadata": {
      "needs_background": "light"
     },
     "output_type": "display_data"
    }
   ],
   "source": [
    "dbpediaBoolData = mostFreqQwordCategory(dbpedia, 'boolean')\n",
    "dbPediaBoolTopX = topXOfList(dbpediaBoolData, 8)\n",
    "dbPediaBoolTopXDict = convertTupToDict(dbPediaBoolTopX)\n",
    "\n",
    "wikiDataBoolTopXDict = convertTupToDict(topXOfList(mostFreqQwordCategory(wikidata, 'boolean'), 8))\n",
    "\n",
    "plt.bar(list(dbPediaBoolTopXDict.keys()),list(dbPediaBoolTopXDict.values()), color=\"r\")\n",
    "plt.bar(list(wikiDataBoolTopXDict.keys()),list(wikiDataBoolTopXDict.values()), color='b')\n",
    "plt.show()"
   ]
  },
  {
   "cell_type": "markdown",
   "metadata": {},
   "source": [
    "### Double Check Results\n",
    "\n",
    "To sanity check the results that we got from the graphs we will check each question word and how often it appears in other categories"
   ]
  },
  {
   "cell_type": "markdown",
   "metadata": {},
   "source": [
    "### Double Check Resulsts functions"
   ]
  },
  {
   "cell_type": "code",
   "execution_count": 243,
   "metadata": {},
   "outputs": [],
   "source": [
    "def checkQword(data, word):\n",
    "    categoryList = []\n",
    "    for i in data:\n",
    "        if str(i['question']).lower().split()[0] == word:\n",
    "            categoryList.append(i['category'].lower())\n",
    "    return categoryList\n",
    "\n",
    "def categoryPercentages(dict):\n",
    "    retdict = {}\n",
    "    total = sum(list(dict.values()))\n",
    "    for i, j in dict.items():\n",
    "        retdict[i] = (j/total)\n",
    "    return retdict"
   ]
  },
  {
   "cell_type": "markdown",
   "metadata": {},
   "source": [
    "Check all of the most common first words for how often they expect a boolean as an answer in the training data"
   ]
  },
  {
   "cell_type": "code",
   "execution_count": 249,
   "metadata": {},
   "outputs": [
    {
     "name": "stdout",
     "output_type": "stream",
     "text": [
      "Wikidata is %:  {'boolean': 0.9593984962406015, 'resource': 0.03308270676691729, 'literal': 0.007518796992481203}\n",
      "Wikidata was %:  {'boolean': 0.9442622950819672, 'resource': 0.03278688524590164, 'literal': 0.022950819672131147}\n",
      "Wikidata does %:  {'boolean': 0.979381443298969, 'resource': 0.01804123711340206, 'literal': 0.002577319587628866}\n",
      "Wikidata did %:  {'boolean': 0.9568627450980393, 'resource': 0.03529411764705882, 'literal': 0.00784313725490196}\n",
      "Wikidata are %:  {'boolean': 0.9873417721518988, 'resource': 0.012658227848101266}\n",
      "Wikidata do %:  {'boolean': 0.9142857142857143, 'resource': 0.05714285714285714, 'literal': 0.02857142857142857}\n",
      "Wikidata were %:  {'boolean': 1.0}\n",
      "Wikidata what %:  {'resource': 0.6663216725315669, 'literal': 0.3324363485820741, 'boolean': 0.001241978886358932}\n",
      "DPpedia is %:  {'boolean': 0.9759797724399494, 'resource': 0.017699115044247787, 'literal': 0.006321112515802781}\n",
      "DPpedia was %:  {'boolean': 0.9616204690831557, 'resource': 0.023454157782515993, 'literal': 0.014925373134328358}\n",
      "DPpedia does %:  {'boolean': 0.979381443298969, 'resource': 0.01804123711340206, 'literal': 0.002577319587628866}\n",
      "DPpedia did %:  {'boolean': 0.9568627450980393, 'resource': 0.03529411764705882, 'literal': 0.00784313725490196}\n",
      "DPpedia are %:  {'boolean': 0.9873417721518988, 'resource': 0.012658227848101266}\n",
      "DPpedia do %:  {'boolean': 0.9142857142857143, 'resource': 0.05714285714285714, 'literal': 0.02857142857142857}\n",
      "DPpedia were %:  {'boolean': 1.0}\n",
      "DPpedia what %:  {'resource': 0.6663216725315669, 'literal': 0.3324363485820741, 'boolean': 0.001241978886358932}\n"
     ]
    }
   ],
   "source": [
    "print(\"Wikidata is %: \", categoryPercentages(CountFrequency(checkQword(wikidata, 'is'))))\n",
    "print(\"Wikidata was %: \", categoryPercentages(CountFrequency(checkQword(wikidata, 'was'))))\n",
    "print(\"Wikidata does %: \", categoryPercentages(CountFrequency(checkQword(dbpedia, 'does'))))\n",
    "print(\"Wikidata did %: \", categoryPercentages(CountFrequency(checkQword(dbpedia, 'did'))))\n",
    "print(\"Wikidata are %: \", categoryPercentages(CountFrequency(checkQword(dbpedia, 'are'))))\n",
    "print(\"Wikidata do %: \", categoryPercentages(CountFrequency(checkQword(dbpedia, 'do'))))\n",
    "print(\"Wikidata were %: \", categoryPercentages(CountFrequency(checkQword(dbpedia, 'were'))))\n",
    "print(\"Wikidata what %: \", categoryPercentages(CountFrequency(checkQword(dbpedia, 'what'))))\n",
    "\n",
    "print(\"DPpedia is %: \", categoryPercentages(CountFrequency(checkQword(dbpedia, 'is'))))\n",
    "print(\"DPpedia was %: \", categoryPercentages(CountFrequency(checkQword(dbpedia, 'was'))))\n",
    "print(\"DPpedia does %: \", categoryPercentages(CountFrequency(checkQword(dbpedia, 'does'))))\n",
    "print(\"DPpedia did %: \", categoryPercentages(CountFrequency(checkQword(dbpedia, 'did'))))\n",
    "print(\"DPpedia are %: \", categoryPercentages(CountFrequency(checkQword(dbpedia, 'are'))))\n",
    "print(\"DPpedia do %: \", categoryPercentages(CountFrequency(checkQword(dbpedia, 'do'))))\n",
    "print(\"DPpedia were %: \", categoryPercentages(CountFrequency(checkQword(dbpedia, 'were'))))\n",
    "print(\"DPpedia what %: \", categoryPercentages(CountFrequency(checkQword(dbpedia, 'what'))))"
   ]
  }
 ],
 "metadata": {
  "kernelspec": {
   "display_name": "Python 3.9.12",
   "language": "python",
   "name": "python3"
  },
  "language_info": {
   "codemirror_mode": {
    "name": "ipython",
    "version": 3
   },
   "file_extension": ".py",
   "mimetype": "text/x-python",
   "name": "python",
   "nbconvert_exporter": "python",
   "pygments_lexer": "ipython3",
   "version": "3.9.12"
  },
  "orig_nbformat": 4,
  "vscode": {
   "interpreter": {
    "hash": "38cca0c38332a56087b24af0bc80247f4fced29cb4f7f437d91dc159adec9c4e"
   }
  }
 },
 "nbformat": 4,
 "nbformat_minor": 2
}
