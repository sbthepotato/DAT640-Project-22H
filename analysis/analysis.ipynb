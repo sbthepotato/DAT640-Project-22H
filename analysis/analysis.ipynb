{
 "cells": [
  {
   "cell_type": "markdown",
   "metadata": {},
   "source": [
    "# Analysis of Datasets\n",
    "\n",
    "In this file we look look at the training datasets to confirm what was written in the related works sections and to find any obvious patterns in the questions to more directly hardcode in what type of answer to give"
   ]
  },
  {
   "cell_type": "code",
   "execution_count": 12,
   "metadata": {},
   "outputs": [],
   "source": [
    "import json\n",
    "import pandas\n",
    "import matplotlib.pyplot as plt\n",
    "import numpy as np\n",
    "\n",
    "from collections import Counter"
   ]
  },
  {
   "cell_type": "markdown",
   "metadata": {},
   "source": [
    "## Load Data\n",
    "\n",
    "Loads the data and saves it as a list of dictionaries"
   ]
  },
  {
   "cell_type": "code",
   "execution_count": 13,
   "metadata": {},
   "outputs": [],
   "source": [
    "def loadData(filelocation):\n",
    "    \"\"\"Loads a json training dataset and returns it as a list of dictionaries.\n",
    "    The keys are:\n",
    "\n",
    "    'ID', 'question', 'category', 'type'\n",
    "    \n",
    "    Note: 'Boolean' category have no type\n",
    "    \"\"\"\n",
    "    with open(filelocation, 'r', encoding='utf-8') as file:\n",
    "        return json.load(file)"
   ]
  },
  {
   "cell_type": "code",
   "execution_count": 14,
   "metadata": {},
   "outputs": [],
   "source": [
    "dbpedia = loadData('../datasets/DBpedia/smarttask_dbpedia_train.json')\n",
    "wikidata = loadData('../datasets/Wikidata/lcquad2_anstype_wikidata_train.json')\n",
    "data = dbpedia + wikidata"
   ]
  },
  {
   "cell_type": "markdown",
   "metadata": {},
   "source": [
    "## Category Analysis Functions\n",
    "\n",
    "These functions are used for category analysis and sorting the results from it"
   ]
  },
  {
   "cell_type": "code",
   "execution_count": 15,
   "metadata": {},
   "outputs": [],
   "source": [
    "def mostFreqQwordCategory(data, category):\n",
    "    \"\"\"Takes a dataset and a category and returns the first word of every question\n",
    "    \"\"\"\n",
    "    firstWordList = []\n",
    "    for i in data:\n",
    "        if i['category'] == category:\n",
    "            firstWordList.append(i['question'].lower().split()[0])\n",
    "    return firstWordList\n",
    "\n",
    "def CountFrequency(list):\n",
    "    \"\"\"Takes a list and returns it as a sorted dictionary where the key is the item and the value is the frequency\n",
    "    \"\"\"\n",
    "    freq = {}\n",
    "    for item in sortListFreq(list):\n",
    "        if (item in freq):\n",
    "            freq[item] += 1\n",
    "        else:\n",
    "            freq[item] = 1\n",
    "    return freq\n",
    "\n",
    "def sortListFreq(list):\n",
    "    \"\"\"Sorts a list on frequency\n",
    "    \"\"\"\n",
    "    counts = Counter(list)\n",
    "    return sorted(list, key=counts.get, reverse=True)\n",
    "\n",
    "def topXOfList(list, x):\n",
    "    \"\"\"Returns the X most common elements in a list\"\"\"\n",
    "    counts = Counter(list)\n",
    "    return counts.most_common(x)\n",
    "\n",
    "def convertTupToDict(tuple):\n",
    "    \"\"\"Converts a list of tuples into a dictionary\"\"\"\n",
    "    dict = {}\n",
    "    for i, j in tuple:\n",
    "        dict.setdefault(i, j)\n",
    "    return dict\n",
    "def mostFreqQwordCategory(data, category):\n",
    "    \"\"\"Takes a dataset and a category and returns the first word of every question\n",
    "    \"\"\"\n",
    "    firstWordList = []\n",
    "    for i in data:\n",
    "        if i['category'] == category:\n",
    "            firstWordList.append(str(i['question']).lower().split()[0])\n",
    "    return firstWordList\n",
    "\n",
    "def CountFrequency(list):\n",
    "    \"\"\"Takes a list and returns it as a sorted dictionary where the key is the item and the value is the frequency\n",
    "    \"\"\"\n",
    "    freq = {}\n",
    "    for item in sortListFreq(list):\n",
    "        if (item in freq):\n",
    "            freq[item] += 1\n",
    "        else:\n",
    "            freq[item] = 1\n",
    "    return freq\n",
    "\n",
    "def sortListFreq(list):\n",
    "    \"\"\"Sorts a list on frequency\n",
    "    \"\"\"\n",
    "    counts = Counter(list)\n",
    "    return sorted(list, key=counts.get, reverse=True)\n",
    "\n",
    "def topXOfList(list, x):\n",
    "    \"\"\"Returns the X most common elements in a list\"\"\"\n",
    "    counts = Counter(list)\n",
    "    return counts.most_common(x)\n",
    "\n",
    "def convertTupToDict(tuple):\n",
    "    \"\"\"Converts a list of tuples into a dictionary\"\"\"\n",
    "    dict = {}\n",
    "    for i, j in tuple:\n",
    "        dict.setdefault(i, j)\n",
    "    return dict"
   ]
  },
  {
   "cell_type": "markdown",
   "metadata": {},
   "source": [
    "## Boolean Category Analysis\n",
    "\n",
    "here we take the first word from all questions which expect a boolean as an answer, then we take the top 8 most frequent words from each dataset and plot them together. Here the dbpedia data is red and the wikidata data is blue."
   ]
  },
  {
   "cell_type": "code",
   "execution_count": 16,
   "metadata": {},
   "outputs": [
    {
     "data": {
      "image/png": "[encoded data removed]",
      "text/plain": [
       "<Figure size 640x480 with 1 Axes>"
      ]
     },
     "metadata": {},
     "output_type": "display_data"
    }
   ],
   "source": [
    "DataBoolTopXDict = convertTupToDict(topXOfList(mostFreqQwordCategory(data, 'boolean'), 8))\n",
    "\n",
    "plt.bar(list(DataBoolTopXDict.keys()),list(DataBoolTopXDict.values()), color='b')\n",
    "plt.show()"
   ]
  },
  {
   "cell_type": "markdown",
   "metadata": {},
   "source": [
    "### Double Check Results\n",
    "\n",
    "To sanity check the results that we got from the graphs we will check each question word and how often it appears in other categories"
   ]
  },
  {
   "cell_type": "markdown",
   "metadata": {},
   "source": [
    "### Double Check Results functions"
   ]
  },
  {
   "cell_type": "code",
   "execution_count": 17,
   "metadata": {},
   "outputs": [],
   "source": [
    "def checkQword(data, word):\n",
    "    categoryList = []\n",
    "    for i in data:\n",
    "        if str(i['question']).lower().split()[0] == word:\n",
    "            categoryList.append(i['category'].lower())\n",
    "    return categoryList\n",
    "\n",
    "def categoryPercentages(dict):\n",
    "    retdict = {}\n",
    "    total = sum(list(dict.values()))\n",
    "    for i, j in dict.items():\n",
    "        retdict[i] = (j/total)\n",
    "    return retdict"
   ]
  },
  {
   "cell_type": "markdown",
   "metadata": {},
   "source": [
    "Check all of the most common first words for how often they expect a boolean as an answer in the training data"
   ]
  },
  {
   "cell_type": "code",
   "execution_count": 18,
   "metadata": {},
   "outputs": [
    {
     "name": "stdout",
     "output_type": "stream",
     "text": [
      "is %:  {'boolean': 0.9684065934065934, 'resource': 0.024725274725274724, 'literal': 0.006868131868131868}\n",
      "was %:  {'boolean': 0.9547803617571059, 'resource': 0.027131782945736434, 'literal': 0.01808785529715762}\n",
      "does %:  {'boolean': 0.9641185647425897, 'resource': 0.0327613104524181, 'literal': 0.0031201248049922}\n",
      "did %:  {'boolean': 0.9348314606741573, 'resource': 0.05393258426966292, 'literal': 0.011235955056179775}\n",
      "are %:  {'boolean': 0.968944099378882, 'resource': 0.031055900621118012}\n",
      "do %:  {'boolean': 0.8793103448275862, 'resource': 0.08620689655172414, 'literal': 0.034482758620689655}\n",
      "were %:  {'boolean': 1.0}\n",
      "what %:  {'resource': 0.7172236503856041, 'literal': 0.2814466802588423, 'boolean': 0.0013296693555535856}\n"
     ]
    }
   ],
   "source": [
    "print(\"is %: \", categoryPercentages(CountFrequency(checkQword(data, 'is'))))\n",
    "print(\"was %: \", categoryPercentages(CountFrequency(checkQword(data, 'was'))))\n",
    "print(\"does %: \", categoryPercentages(CountFrequency(checkQword(data, 'does'))))\n",
    "print(\"did %: \", categoryPercentages(CountFrequency(checkQword(data, 'did'))))\n",
    "print(\"are %: \", categoryPercentages(CountFrequency(checkQword(data, 'are'))))\n",
    "print(\"do %: \", categoryPercentages(CountFrequency(checkQword(data, 'do'))))\n",
    "print(\"were %: \", categoryPercentages(CountFrequency(checkQword(data, 'were'))))\n",
    "print(\"what %: \", categoryPercentages(CountFrequency(checkQword(data, 'what'))))"
   ]
  },
  {
   "cell_type": "markdown",
   "metadata": {},
   "source": [
    "## Literals"
   ]
  },
  {
   "cell_type": "code",
   "execution_count": 19,
   "metadata": {},
   "outputs": [
    {
     "data": {
      "image/png": "[encoded data removed]",
      "text/plain": [
       "<Figure size 640x480 with 1 Axes>"
      ]
     },
     "metadata": {},
     "output_type": "display_data"
    }
   ],
   "source": [
    "DataBoolTopXDict = convertTupToDict(topXOfList(mostFreqQwordCategory(data, 'literal'), 8))\n",
    "\n",
    "plt.bar(list(DataBoolTopXDict.keys()),list(DataBoolTopXDict.values()), color='b')\n",
    "plt.show()"
   ]
  },
  {
   "cell_type": "code",
   "execution_count": 20,
   "metadata": {},
   "outputs": [
    {
     "name": "stdout",
     "output_type": "stream",
     "text": [
      "is %:  {'literal': 0.8884064264003474, 'resource': 0.1094224924012158, 'boolean': 0.0021710811984368217}\n"
     ]
    }
   ],
   "source": [
    "print(\"is %: \", categoryPercentages(CountFrequency(checkQword(data, 'when'))))"
   ]
  },
  {
   "cell_type": "markdown",
   "metadata": {},
   "source": [
    "## Resources"
   ]
  },
  {
   "cell_type": "code",
   "execution_count": 21,
   "metadata": {},
   "outputs": [
    {
     "data": {
      "image/png": "[encoded data removed]",
      "text/plain": [
       "<Figure size 640x480 with 1 Axes>"
      ]
     },
     "metadata": {},
     "output_type": "display_data"
    }
   ],
   "source": [
    "DataBoolTopXDict = convertTupToDict(topXOfList(mostFreqQwordCategory(data, 'resource'), 8))\n",
    "\n",
    "plt.bar(list(DataBoolTopXDict.keys()),list(DataBoolTopXDict.values()), color='b')\n",
    "plt.show()"
   ]
  },
  {
   "cell_type": "markdown",
   "metadata": {},
   "source": [
    "## Resource answer types\n",
    "Check how often each resource type comes up"
   ]
  },
  {
   "cell_type": "code",
   "execution_count": 22,
   "metadata": {},
   "outputs": [],
   "source": [
    "def mostFreqType(data, category):\n",
    "    \"\"\"Takes a dataset and returns the most frequent types from the category\n",
    "    \"\"\"\n",
    "    typeList = []\n",
    "    for i in data:\n",
    "        if i['category'] ==  category:\n",
    "            for j in i['type']:\n",
    "                typeList.append(str(j))\n",
    "    return typeList"
   ]
  }
 ],
 "metadata": {
  "kernelspec": {
   "display_name": "Python 3.9.13 ('base')",
   "language": "python",
   "name": "python3"
  },
  "language_info": {
   "codemirror_mode": {
    "name": "ipython",
    "version": 3
   },
   "file_extension": ".py",
   "mimetype": "text/x-python",
   "name": "python",
   "nbconvert_exporter": "python",
   "pygments_lexer": "ipython3",
   "version": "3.9.13"
  },
  "orig_nbformat": 4,
  "vscode": {
   "interpreter": {
    "hash": "38cca0c38332a56087b24af0bc80247f4fced29cb4f7f437d91dc159adec9c4e"
   }
  }
 },
 "nbformat": 4,
 "nbformat_minor": 2
}
